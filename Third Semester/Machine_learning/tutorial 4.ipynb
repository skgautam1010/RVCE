{
 "cells": [
  {
   "cell_type": "markdown",
   "metadata": {},
   "source": [
    "# KNN Full Algorithm"
   ]
  },
  {
   "cell_type": "code",
   "execution_count": 1,
   "metadata": {},
   "outputs": [],
   "source": [
    "from math import sqrt\n",
    "import time"
   ]
  },
  {
   "cell_type": "code",
   "execution_count": 2,
   "metadata": {},
   "outputs": [],
   "source": [
    "#calculating the euclidian distance between two vectores\n",
    "def euclidian_dist(row1,row2):\n",
    "    distance=0.0\n",
    "    for i in range(len(row1)-1):\n",
    "        distance +=(row1[i]-row2[i])**2\n",
    "    return sqrt(distance)"
   ]
  },
  {
   "cell_type": "code",
   "execution_count": 3,
   "metadata": {},
   "outputs": [],
   "source": [
    "#calculating the nearest neighubour\n",
    "def nearest_neighbour(train,test_row,num_neighbours):\n",
    "    distances=[]\n",
    "    for t in train:\n",
    "        dist=euclidian_dist(test_row,t)\n",
    "        time.sleep(5)\n",
    "        print(\"distance\",dist)\n",
    "        distances.append((t,dist))\n",
    "        time.sleep(5)\n",
    "        print(distances)\n",
    "    distances.sort(key=lambda tup:tup[1])\n",
    "    neighbors=[]\n",
    "    for i in range(num_neighbours):\n",
    "        neighbors.append(distances[i][0])\n",
    "    return neighbors\n"
   ]
  },
  {
   "cell_type": "code",
   "execution_count": 4,
   "metadata": {},
   "outputs": [],
   "source": [
    "def predict_classification(train,test_row,num_neighbors):\n",
    "    neighbors=nearest_neighbour(train,test_row,num_neighbors)\n",
    "    print(\"neighbour\",neighbors)\n",
    "    output_values=[row[-1] for row in neighbors]\n",
    "    print(\"\\noutput values\",output_values)\n",
    "    prediction=max(set(output_values),key=output_values.count)\n",
    "    return prediction"
   ]
  },
  {
   "cell_type": "code",
   "execution_count": 6,
   "metadata": {},
   "outputs": [
    {
     "name": "stdout",
     "output_type": "stream",
     "text": [
      "distance 4.0\n",
      "[([7, 7, 0], 4.0)]\n",
      "distance 5.0\n",
      "[([7, 7, 0], 4.0), ([7, 4, 1], 5.0)]\n",
      "distance 3.0\n",
      "[([7, 7, 0], 4.0), ([7, 4, 1], 5.0), ([3, 4, 1], 3.0)]\n",
      "distance 3.605551275463989\n",
      "[([7, 7, 0], 4.0), ([7, 4, 1], 5.0), ([3, 4, 1], 3.0), ([1, 4, 1], 3.605551275463989)]\n",
      "distance 5.0990195135927845\n",
      "[([7, 7, 0], 4.0), ([7, 4, 1], 5.0), ([3, 4, 1], 3.0), ([1, 4, 1], 3.605551275463989), ([8, 6, 0], 5.0990195135927845)]\n",
      "distance 1.0\n",
      "[([7, 7, 0], 4.0), ([7, 4, 1], 5.0), ([3, 4, 1], 3.0), ([1, 4, 1], 3.605551275463989), ([8, 6, 0], 5.0990195135927845), ([4, 7, 1], 1.0)]\n",
      "distance 4.47213595499958\n",
      "[([7, 7, 0], 4.0), ([7, 4, 1], 5.0), ([3, 4, 1], 3.0), ([1, 4, 1], 3.605551275463989), ([8, 6, 0], 5.0990195135927845), ([4, 7, 1], 1.0), ([5, 3, 2], 4.47213595499958)]\n",
      "distance 6.4031242374328485\n",
      "[([7, 7, 0], 4.0), ([7, 4, 1], 5.0), ([3, 4, 1], 3.0), ([1, 4, 1], 3.605551275463989), ([8, 6, 0], 5.0990195135927845), ([4, 7, 1], 1.0), ([5, 3, 2], 4.47213595499958), ([8, 3, 2], 6.4031242374328485)]\n",
      "neighbour [[4, 7, 1], [3, 4, 1], [1, 4, 1]]\n",
      "\n",
      "output values [1, 1, 1]\n",
      "Expected 0,Got 1.\n"
     ]
    }
   ],
   "source": [
    "dataset=[[7,7,0],[7,4,1],[3,4,1],[1,4,1],[8,6,0],[4,7,1],[5,3,2],[8,3,2]]\n",
    "testing_data=[3,7,0]\n",
    "prediction=predict_classification(dataset,testing_data,3)\n",
    "print('Expected %d,Got %d.'%(dataset[0][-1],prediction))"
   ]
  },
  {
   "cell_type": "code",
   "execution_count": null,
   "metadata": {},
   "outputs": [],
   "source": []
  }
 ],
 "metadata": {
  "kernelspec": {
   "display_name": "Python 3",
   "language": "python",
   "name": "python3"
  },
  "language_info": {
   "codemirror_mode": {
    "name": "ipython",
    "version": 3
   },
   "file_extension": ".py",
   "mimetype": "text/x-python",
   "name": "python",
   "nbconvert_exporter": "python",
   "pygments_lexer": "ipython3",
   "version": "3.8.3"
  }
 },
 "nbformat": 4,
 "nbformat_minor": 4
}
